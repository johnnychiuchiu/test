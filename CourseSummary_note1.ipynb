{
 "cells": [
  {
   "cell_type": "markdown",
   "metadata": {},
   "source": [
    "**Outline**\n",
    "\n",
    "* Maximum Likelihood Estimation\n",
    "    * Example: General Nonlinear Regression Model with Normal Errors\n",
    "    * Summary of Steps in General MLE\n",
    "    * Model Fitting and Illustration of the Likelihood Function\n",
    "    * R commands for fitting learning curve example\n",
    "        * [using the general optimizer nlm()](#nlm)\n",
    "            * Using Fisher's Information matrix to get the standard error of the parameters\n",
    "        * [using nls()](#nls)\n",
    "* Boostrapping\n",
    "    * [R commands for bootstrapping parameter SEs/CIs for the manufacturing learning curve](#ci_parameter)\n",
    "    * [R commands for bootstrapping response CIs for the manufacturing learning curve](#ci_prediction)\n",
    "    * [Bootstrapping Prediction Intervals (PIs) for the Response](#pi_prediction)\n",
    "    \n",
    "    "
   ]
  },
  {
   "cell_type": "markdown",
   "metadata": {},
   "source": [
    "## Maximum Likelihood Estimation"
   ]
  },
  {
   "cell_type": "markdown",
   "metadata": {},
   "source": [
    "In statistics, maximum likelihood estimation (MLE) is a method of estimating the parameters of a statistical model given observations, by finding the parameter values that maximize the likelihood.\n",
    "\n",
    "In other words, We change the parameter in order to get the maximum output value of the likelihood function. The parameter that give us the maximum value is the maximum likelihood estimator."
   ]
  },
  {
   "attachments": {},
   "cell_type": "markdown",
   "metadata": {},
   "source": [
    "### General Nonlinear Regression Model with Normal Errors\n",
    "\n",
    "For example, if we assume a case when we want to fit a General Nonlinear Regression Model with Normal Errors, i.e.,\n",
    "\n",
    "$$Y_i = g(x_i,\\theta) + \\varepsilon_i$$\n",
    "\n",
    "with error distribution: $\\varepsilon_i \\text{~} NID(0,\\alpha^2)$\n",
    "\n",
    "We do it by first assuming a marginal distribution of each $Y_i$ given the $x_i$'s. Since we assume that our errors are independently normally distributed, our $Y_i$ will be \n",
    "$$Y_i  \\text{~ NID}(\\mu_i,\\alpha^2)$$\n",
    "\n",
    "with $\\mu_i = g(x_i,\\theta)$\n",
    "\n",
    "Therefore, for each $Y_i$, the marginal pdf of $Y_i$ will be \n",
    "$$f(y_i; \\theta, \\alpha) = \\frac{1}{\\sqrt{2\\pi\\alpha}}exp\\Big(-\\frac{1}{2\\alpha^2}(y_i-\\mu_i)^2  \\Big)$$\n",
    "\n",
    "The overall joint pdf using all the Y_i's will be \n",
    "$$f(Y; \\theta, \\alpha) = \\prod_{i=1}^{n}f(y_i; \\theta, \\alpha) = \\frac{1}{(2\\pi)^{n/2}\\alpha^n}exp\\Big(-\\frac{1}{2\\alpha^2}\\sum_{i=1}^{n}(y_i-\\mu_i)^2  \\Big)$$\n",
    "\n",
    "If we treat the joint pdf as a function of $\\theta$ given all the $x_i$'s, then it is a likelihood function. More specifically, the output of the function is the likelihood of us having these kinds of $x_i$'s. We want to get the maximum value of the function by changing our parameter, which is $\\theta$."
   ]
  },
  {
   "cell_type": "markdown",
   "metadata": {},
   "source": [
    "### Summary of Steps in General MLE\n",
    "\n",
    "* Write out the form of the statistical model that you are using to represent the data\n",
    "* Find the marginal distribution of each individual observation Yi (for regression problems the xi's  are not treated as random, so you only need to find the marginal distribution of the Yi's given the xi's)\n",
    "* From the marginal distributions in step (2), find the joint distribution f(Y; θ) of  the entire set of data Y\n",
    "* If tractable, find an analytical expression for the θ that maximizes the likelihood f(Y; θ). Otherwise, use optimization software to minimize −log f(Y; θ)\n",
    "* The MLE of θ is the minimizer in step (4), and the Hessian can be used to assess statistical uncertainty (next topic)\n"
   ]
  },
  {
   "cell_type": "markdown",
   "metadata": {},
   "source": [
    "**Model Fitting and Illustration of the Likelihood Function**"
   ]
  },
  {
   "cell_type": "code",
   "execution_count": 104,
   "metadata": {},
   "outputs": [
    {
     "data": {
      "text/html": [
       "<table>\n",
       "<thead><tr><th scope=col>y</th><th scope=col>income</th><th scope=col>car_age</th></tr></thead>\n",
       "<tbody>\n",
       "\t<tr><td>0 </td><td>32</td><td>3 </td></tr>\n",
       "\t<tr><td>0 </td><td>45</td><td>2 </td></tr>\n",
       "\t<tr><td>1 </td><td>60</td><td>2 </td></tr>\n",
       "\t<tr><td>0 </td><td>53</td><td>1 </td></tr>\n",
       "\t<tr><td>0 </td><td>25</td><td>4 </td></tr>\n",
       "\t<tr><td>1 </td><td>68</td><td>1 </td></tr>\n",
       "</tbody>\n",
       "</table>\n"
      ],
      "text/latex": [
       "\\begin{tabular}{r|lll}\n",
       " y & income & car\\_age\\\\\n",
       "\\hline\n",
       "\t 0  & 32 & 3 \\\\\n",
       "\t 0  & 45 & 2 \\\\\n",
       "\t 1  & 60 & 2 \\\\\n",
       "\t 0  & 53 & 1 \\\\\n",
       "\t 0  & 25 & 4 \\\\\n",
       "\t 1  & 68 & 1 \\\\\n",
       "\\end{tabular}\n"
      ],
      "text/markdown": [
       "\n",
       "y | income | car_age | \n",
       "|---|---|---|---|---|---|\n",
       "| 0  | 32 | 3  | \n",
       "| 0  | 45 | 2  | \n",
       "| 1  | 60 | 2  | \n",
       "| 0  | 53 | 1  | \n",
       "| 0  | 25 | 4  | \n",
       "| 1  | 68 | 1  | \n",
       "\n",
       "\n"
      ],
      "text/plain": [
       "  y income car_age\n",
       "1 0 32     3      \n",
       "2 0 45     2      \n",
       "3 1 60     2      \n",
       "4 0 53     1      \n",
       "5 0 25     4      \n",
       "6 1 68     1      "
      ]
     },
     "metadata": {},
     "output_type": "display_data"
    },
    {
     "data": {
      "text/plain": [
       "\n",
       "Call:\n",
       "glm(formula = y ~ ., family = binomial(link = \"logit\"), data = CAR)\n",
       "\n",
       "Deviance Residuals: \n",
       "    Min       1Q   Median       3Q      Max  \n",
       "-1.6189  -0.8949  -0.5880   0.9653   2.0846  \n",
       "\n",
       "Coefficients:\n",
       "            Estimate Std. Error z value Pr(>|z|)  \n",
       "(Intercept) -4.73931    2.10195  -2.255   0.0242 *\n",
       "income       0.06773    0.02806   2.414   0.0158 *\n",
       "car_age      0.59863    0.39007   1.535   0.1249  \n",
       "---\n",
       "Signif. codes:  0 ‘***’ 0.001 ‘**’ 0.01 ‘*’ 0.05 ‘.’ 0.1 ‘ ’ 1\n",
       "\n",
       "(Dispersion parameter for binomial family taken to be 1)\n",
       "\n",
       "    Null deviance: 44.987  on 32  degrees of freedom\n",
       "Residual deviance: 36.690  on 30  degrees of freedom\n",
       "AIC: 42.69\n",
       "\n",
       "Number of Fisher Scoring iterations: 4\n"
      ]
     },
     "metadata": {},
     "output_type": "display_data"
    }
   ],
   "source": [
    "#######Illustration of car purchase data and likelihood function############\n",
    "CAR<-read.table(\"Data_for_Lecture_Examples/Car.csv\",sep=\",\",header=TRUE)\n",
    "head(CAR)\n",
    "glm1 <- glm(y ~ ., family = binomial(link=\"logit\"), data = CAR)\n",
    "summary(glm1)"
   ]
  },
  {
   "cell_type": "code",
   "execution_count": 23,
   "metadata": {},
   "outputs": [
    {
     "data": {
      "text/html": [
       "<table>\n",
       "<thead><tr><th scope=col>y</th><th scope=col>income</th><th scope=col>car_age</th><th scope=col>p_hat</th></tr></thead>\n",
       "<tbody>\n",
       "\t<tr><td>0    </td><td>32   </td><td>3    </td><td>0.315</td></tr>\n",
       "\t<tr><td>0    </td><td>45   </td><td>2    </td><td>0.379</td></tr>\n",
       "\t<tr><td>1    </td><td>60   </td><td>2    </td><td>0.628</td></tr>\n",
       "\t<tr><td>0    </td><td>53   </td><td>1    </td><td>0.366</td></tr>\n",
       "\t<tr><td>0    </td><td>25   </td><td>4    </td><td>0.343</td></tr>\n",
       "\t<tr><td>1    </td><td>68   </td><td>1    </td><td>0.614</td></tr>\n",
       "</tbody>\n",
       "</table>\n"
      ],
      "text/latex": [
       "\\begin{tabular}{r|llll}\n",
       " y & income & car\\_age & p\\_hat\\\\\n",
       "\\hline\n",
       "\t 0     & 32    & 3     & 0.315\\\\\n",
       "\t 0     & 45    & 2     & 0.379\\\\\n",
       "\t 1     & 60    & 2     & 0.628\\\\\n",
       "\t 0     & 53    & 1     & 0.366\\\\\n",
       "\t 0     & 25    & 4     & 0.343\\\\\n",
       "\t 1     & 68    & 1     & 0.614\\\\\n",
       "\\end{tabular}\n"
      ],
      "text/markdown": [
       "\n",
       "y | income | car_age | p_hat | \n",
       "|---|---|---|---|---|---|\n",
       "| 0     | 32    | 3     | 0.315 | \n",
       "| 0     | 45    | 2     | 0.379 | \n",
       "| 1     | 60    | 2     | 0.628 | \n",
       "| 0     | 53    | 1     | 0.366 | \n",
       "| 0     | 25    | 4     | 0.343 | \n",
       "| 1     | 68    | 1     | 0.614 | \n",
       "\n",
       "\n"
      ],
      "text/plain": [
       "  y income car_age p_hat\n",
       "1 0 32     3       0.315\n",
       "2 0 45     2       0.379\n",
       "3 1 60     2       0.628\n",
       "4 0 53     1       0.366\n",
       "5 0 25     4       0.343\n",
       "6 1 68     1       0.614"
      ]
     },
     "metadata": {},
     "output_type": "display_data"
    }
   ],
   "source": [
    "p_hat <- predict(glm1, type=\"response\")\n",
    "head(data.frame(CAR, p_hat=round(p_hat,3)))"
   ]
  },
  {
   "attachments": {},
   "cell_type": "markdown",
   "metadata": {},
   "source": [
    "### <a id=\"nlm\">R commands for fitting learning curve example using the general optimizer nlm()</a>"
   ]
  },
  {
   "cell_type": "code",
   "execution_count": 31,
   "metadata": {},
   "outputs": [
    {
     "data": {
      "text/html": [
       "<ol class=list-inline>\n",
       "\t<li>1.01559833395932</li>\n",
       "\t<li>-0.0472667174735106</li>\n",
       "\t<li>-0.134795503747023</li>\n",
       "\t<li>-0.552442461206465</li>\n",
       "</ol>\n"
      ],
      "text/latex": [
       "\\begin{enumerate*}\n",
       "\\item 1.01559833395932\n",
       "\\item -0.0472667174735106\n",
       "\\item -0.134795503747023\n",
       "\\item -0.552442461206465\n",
       "\\end{enumerate*}\n"
      ],
      "text/markdown": [
       "1. 1.01559833395932\n",
       "2. -0.0472667174735106\n",
       "3. -0.134795503747023\n",
       "4. -0.552442461206465\n",
       "\n",
       "\n"
      ],
      "text/plain": [
       "[1]  1.01559833 -0.04726672 -0.13479550 -0.55244246"
      ]
     },
     "metadata": {},
     "output_type": "display_data"
    }
   ],
   "source": [
    "# Read Data\n",
    "MLC<-read.table(\"Data_for_Lecture_Examples/MLC.csv\",sep=\",\",header=TRUE)\n",
    "x1<-MLC$Location;x2<-MLC$Week;y<-MLC$Efficiency\n",
    "\n",
    "# Write out the form of the statistical model that you are using to represent the data\n",
    "fn <- function(p) {yhat<-p[1]+p[2]*x1+p[4]*exp(p[3]*x2); sum((y-yhat)^2)} \n",
    "\n",
    "# use optimization software to minimize −log f(Y; θ)\n",
    "out<-nlm(fn,p=c(1,0,-.5,-.1),hessian=TRUE)\n",
    "\n",
    "# parameter estimates\n",
    "theta<-out$estimate  \n",
    "theta"
   ]
  },
  {
   "cell_type": "code",
   "execution_count": 36,
   "metadata": {},
   "outputs": [
    {
     "data": {
      "text/html": [
       "<dl>\n",
       "\t<dt>$minimum</dt>\n",
       "\t\t<dd>0.00329268281217719</dd>\n",
       "\t<dt>$estimate</dt>\n",
       "\t\t<dd><ol class=list-inline>\n",
       "\t<li>1.01559833395932</li>\n",
       "\t<li>-0.0472667174735106</li>\n",
       "\t<li>-0.134795503747023</li>\n",
       "\t<li>-0.552442461206465</li>\n",
       "</ol>\n",
       "</dd>\n",
       "\t<dt>$gradient</dt>\n",
       "\t\t<dd><ol class=list-inline>\n",
       "\t<li>-1.93728740927635e-06</li>\n",
       "\t<li>-1.73074639255727e-06</li>\n",
       "\t<li>1.93475619856762e-06</li>\n",
       "\t<li>-4.90045642953518e-07</li>\n",
       "</ol>\n",
       "</dd>\n",
       "\t<dt>$hessian</dt>\n",
       "\t\t<dd><table>\n",
       "<tbody>\n",
       "\t<tr><td> 60.00000 </td><td> 30.000000</td><td>-36.26400 </td><td> 14.748867</td></tr>\n",
       "\t<tr><td> 30.00000 </td><td> 30.000000</td><td>-18.13200 </td><td>  7.374434</td></tr>\n",
       "\t<tr><td>-36.26400 </td><td>-18.132000</td><td> 40.49897 </td><td>-14.735919</td></tr>\n",
       "\t<tr><td> 14.74887 </td><td>  7.374434</td><td>-14.73592 </td><td>  9.173963</td></tr>\n",
       "</tbody>\n",
       "</table>\n",
       "</dd>\n",
       "\t<dt>$code</dt>\n",
       "\t\t<dd>3</dd>\n",
       "\t<dt>$iterations</dt>\n",
       "\t\t<dd>21</dd>\n",
       "</dl>\n"
      ],
      "text/latex": [
       "\\begin{description}\n",
       "\\item[\\$minimum] 0.00329268281217719\n",
       "\\item[\\$estimate] \\begin{enumerate*}\n",
       "\\item 1.01559833395932\n",
       "\\item -0.0472667174735106\n",
       "\\item -0.134795503747023\n",
       "\\item -0.552442461206465\n",
       "\\end{enumerate*}\n",
       "\n",
       "\\item[\\$gradient] \\begin{enumerate*}\n",
       "\\item -1.93728740927635e-06\n",
       "\\item -1.73074639255727e-06\n",
       "\\item 1.93475619856762e-06\n",
       "\\item -4.90045642953518e-07\n",
       "\\end{enumerate*}\n",
       "\n",
       "\\item[\\$hessian] \\begin{tabular}{llll}\n",
       "\t  60.00000  &  30.000000 & -36.26400  &  14.748867\\\\\n",
       "\t  30.00000  &  30.000000 & -18.13200  &   7.374434\\\\\n",
       "\t -36.26400  & -18.132000 &  40.49897  & -14.735919\\\\\n",
       "\t  14.74887  &   7.374434 & -14.73592  &   9.173963\\\\\n",
       "\\end{tabular}\n",
       "\n",
       "\\item[\\$code] 3\n",
       "\\item[\\$iterations] 21\n",
       "\\end{description}\n"
      ],
      "text/markdown": [
       "$minimum\n",
       ":   0.00329268281217719\n",
       "$estimate\n",
       ":   1. 1.01559833395932\n",
       "2. -0.0472667174735106\n",
       "3. -0.134795503747023\n",
       "4. -0.552442461206465\n",
       "\n",
       "\n",
       "\n",
       "$gradient\n",
       ":   1. -1.93728740927635e-06\n",
       "2. -1.73074639255727e-06\n",
       "3. 1.93475619856762e-06\n",
       "4. -4.90045642953518e-07\n",
       "\n",
       "\n",
       "\n",
       "$hessian\n",
       ":   \n",
       "|  60.00000  |  30.000000 | -36.26400  |  14.748867 | \n",
       "|  30.00000  |  30.000000 | -18.13200  |   7.374434 | \n",
       "| -36.26400  | -18.132000 |  40.49897  | -14.735919 | \n",
       "|  14.74887  |   7.374434 | -14.73592  |   9.173963 | \n",
       "\n",
       "\n",
       "\n",
       "$code\n",
       ":   3\n",
       "$iterations\n",
       ":   21\n",
       "\n",
       "\n"
      ],
      "text/plain": [
       "$minimum\n",
       "[1] 0.003292683\n",
       "\n",
       "$estimate\n",
       "[1]  1.01559833 -0.04726672 -0.13479550 -0.55244246\n",
       "\n",
       "$gradient\n",
       "[1] -1.937287e-06 -1.730746e-06  1.934756e-06 -4.900456e-07\n",
       "\n",
       "$hessian\n",
       "          [,1]       [,2]      [,3]       [,4]\n",
       "[1,]  60.00000  30.000000 -36.26400  14.748867\n",
       "[2,]  30.00000  30.000000 -18.13200   7.374434\n",
       "[3,] -36.26400 -18.132000  40.49897 -14.735919\n",
       "[4,]  14.74887   7.374434 -14.73592   9.173963\n",
       "\n",
       "$code\n",
       "[1] 3\n",
       "\n",
       "$iterations\n",
       "[1] 21\n"
      ]
     },
     "metadata": {},
     "output_type": "display_data"
    }
   ],
   "source": [
    "out"
   ]
  },
  {
   "cell_type": "markdown",
   "metadata": {},
   "source": [
    "* **minimum**: the value of the estimated minimum of f\n",
    "* **estimate**: parameter estimates\n",
    "* **hessian**: In mathematics, the Hessian matrix or Hessian is a square matrix of second-order partial derivatives of a scalar-valued function"
   ]
  },
  {
   "cell_type": "markdown",
   "metadata": {},
   "source": [
    "**MSE**"
   ]
  },
  {
   "cell_type": "markdown",
   "metadata": {},
   "source": [
    "$MSE = \\frac{SSE}{(n-p)}$\n",
    "\n",
    "* p: # predictors, including constant\n",
    "* n: # observations\n",
    "* SSE: the value of the estimated minimum of f, where f is the nonlinear least squares."
   ]
  },
  {
   "cell_type": "code",
   "execution_count": 41,
   "metadata": {},
   "outputs": [
    {
     "data": {
      "text/html": [
       "0.0001266416466222"
      ],
      "text/latex": [
       "0.0001266416466222"
      ],
      "text/markdown": [
       "0.0001266416466222"
      ],
      "text/plain": [
       "[1] 0.0001266416"
      ]
     },
     "metadata": {},
     "output_type": "display_data"
    }
   ],
   "source": [
    "###we will use the following later, for finding SEs and CIs#######\n",
    "MSE<-out$minimum/(length(y) - length(theta))  #estimate of the error variance\n",
    "MSE"
   ]
  },
  {
   "cell_type": "markdown",
   "metadata": {},
   "source": [
    "**Standard Error**"
   ]
  },
  {
   "cell_type": "markdown",
   "metadata": {},
   "source": [
    "We can get the standard error by calculating the inverse of the hessian matrix divided by 2 $\\hat{\\sigma}$, where $\\hat{\\sigma}= MSE$\n",
    "\n",
    "Fisher information matrix = hessian matrix divided by 2 $\\hat{\\sigma}$"
   ]
  },
  {
   "cell_type": "markdown",
   "metadata": {},
   "source": [
    "* Fisher informatiom matrix capture how much information we get for the theta’s from log-likelihood function.\n",
    "* the smaller the variance we have for theta, the more informatino we get; the more negative the curvture of the thetha on the likelihood function\n",
    "* When calculating likelihood function, we want the result to be “the higher the better”. so, we get the curvature of the theta’s by taking the hessian matrix and then take a negative sign of it to make it “the higher the better”.\n",
    "* It turns out that “under fairly general conditions” for large n, the MLE of theta is approximately multivariate normal, $\\theta \\approx N(\\theta, I^{-1}(\\theta))$. and using some derivation, the fisher info matrix is the same as covariance of theta."
   ]
  },
  {
   "cell_type": "code",
   "execution_count": 42,
   "metadata": {},
   "outputs": [
    {
     "data": {
      "text/html": [
       "<table>\n",
       "<tbody>\n",
       "\t<tr><td> 1.363897e-05</td><td>-8.442776e-06</td><td> 7.036036e-06</td><td>-3.838706e-06</td></tr>\n",
       "\t<tr><td>-8.442776e-06</td><td> 1.688555e-05</td><td>-4.827373e-17</td><td>-3.747765e-16</td></tr>\n",
       "\t<tr><td> 7.036036e-06</td><td>-4.827742e-17</td><td> 2.030714e-05</td><td> 2.130713e-05</td></tr>\n",
       "\t<tr><td>-3.838706e-06</td><td>-3.747776e-16</td><td> 2.130713e-05</td><td> 6.800551e-05</td></tr>\n",
       "</tbody>\n",
       "</table>\n"
      ],
      "text/latex": [
       "\\begin{tabular}{llll}\n",
       "\t  1.363897e-05 & -8.442776e-06 &  7.036036e-06 & -3.838706e-06\\\\\n",
       "\t -8.442776e-06 &  1.688555e-05 & -4.827373e-17 & -3.747765e-16\\\\\n",
       "\t  7.036036e-06 & -4.827742e-17 &  2.030714e-05 &  2.130713e-05\\\\\n",
       "\t -3.838706e-06 & -3.747776e-16 &  2.130713e-05 &  6.800551e-05\\\\\n",
       "\\end{tabular}\n"
      ],
      "text/markdown": [
       "\n",
       "|  1.363897e-05 | -8.442776e-06 |  7.036036e-06 | -3.838706e-06 | \n",
       "| -8.442776e-06 |  1.688555e-05 | -4.827373e-17 | -3.747765e-16 | \n",
       "|  7.036036e-06 | -4.827742e-17 |  2.030714e-05 |  2.130713e-05 | \n",
       "| -3.838706e-06 | -3.747776e-16 |  2.130713e-05 |  6.800551e-05 | \n",
       "\n",
       "\n"
      ],
      "text/plain": [
       "     [,1]          [,2]          [,3]          [,4]         \n",
       "[1,]  1.363897e-05 -8.442776e-06  7.036036e-06 -3.838706e-06\n",
       "[2,] -8.442776e-06  1.688555e-05 -4.827373e-17 -3.747765e-16\n",
       "[3,]  7.036036e-06 -4.827742e-17  2.030714e-05  2.130713e-05\n",
       "[4,] -3.838706e-06 -3.747776e-16  2.130713e-05  6.800551e-05"
      ]
     },
     "metadata": {},
     "output_type": "display_data"
    },
    {
     "data": {
      "text/html": [
       "<ol class=list-inline>\n",
       "\t<li>0.00369309710255068</li>\n",
       "\t<li>0.0041092034364745</li>\n",
       "\t<li>0.00450634472282363</li>\n",
       "\t<li>0.00824654540240216</li>\n",
       "</ol>\n"
      ],
      "text/latex": [
       "\\begin{enumerate*}\n",
       "\\item 0.00369309710255068\n",
       "\\item 0.0041092034364745\n",
       "\\item 0.00450634472282363\n",
       "\\item 0.00824654540240216\n",
       "\\end{enumerate*}\n"
      ],
      "text/markdown": [
       "1. 0.00369309710255068\n",
       "2. 0.0041092034364745\n",
       "3. 0.00450634472282363\n",
       "4. 0.00824654540240216\n",
       "\n",
       "\n"
      ],
      "text/plain": [
       "[1] 0.003693097 0.004109203 0.004506345 0.008246545"
      ]
     },
     "metadata": {},
     "output_type": "display_data"
    }
   ],
   "source": [
    "# get observed fisher information matrix\n",
    "InfoMat<-out$hessian/2/MSE  \n",
    "\n",
    "# get the inverse of the information matrix\n",
    "CovTheta<-solve(InfoMat)\n",
    "\n",
    "#standard errors of parameter estimates is the diagonal of the covariance matrix\n",
    "SE<-sqrt(diag(CovTheta))  \n",
    "\n",
    "CovTheta\n",
    "SE"
   ]
  },
  {
   "cell_type": "markdown",
   "metadata": {},
   "source": [
    "### <a id=\"nls\">Using nls package to do the same thing</a>"
   ]
  },
  {
   "cell_type": "code",
   "execution_count": 35,
   "metadata": {},
   "outputs": [
    {
     "name": "stdout",
     "output_type": "stream",
     "text": [
      "0.8979755 :   1.0  0.0 -0.5 -0.3\n",
      "0.2919703 :   0.99629945 -0.01181667 -0.11983079 -0.29040977\n",
      "0.08048641 :   1.00599314 -0.02954166 -0.13205311 -0.42020261\n",
      "0.003302903 :   1.01565632 -0.04726667 -0.13536186 -0.55220066\n",
      "0.003292692 :   1.01558444 -0.04726667 -0.13483295 -0.55248177\n",
      "0.003292683 :   1.01559746 -0.04726667 -0.13479803 -0.55244510\n",
      "0.003292683 :   1.01559830 -0.04726667 -0.13479561 -0.55244257\n"
     ]
    },
    {
     "data": {
      "text/plain": [
       "\n",
       "Formula: y ~ fn2(x1, x2, p)\n",
       "\n",
       "Parameters:\n",
       "    Estimate Std. Error t value Pr(>|t|)    \n",
       "p1  1.015598   0.003672  276.60  < 2e-16 ***\n",
       "p2 -0.047267   0.004109  -11.50 1.06e-11 ***\n",
       "p3 -0.134796   0.004360  -30.92  < 2e-16 ***\n",
       "p4 -0.552443   0.008157  -67.72  < 2e-16 ***\n",
       "---\n",
       "Signif. codes:  0 ‘***’ 0.001 ‘**’ 0.01 ‘*’ 0.05 ‘.’ 0.1 ‘ ’ 1\n",
       "\n",
       "Residual standard error: 0.01125 on 26 degrees of freedom\n",
       "\n",
       "Number of iterations to convergence: 6 \n",
       "Achieved convergence tolerance: 7.552e-06\n"
      ]
     },
     "metadata": {},
     "output_type": "display_data"
    }
   ],
   "source": [
    "MLC<-read.table(\"Data_for_Lecture_Examples/MLC.csv\",sep=\",\",header=TRUE)\n",
    "x1<-MLC$Location;x2<-MLC$Week;y<-MLC$Efficiency\n",
    "fn2 <- function(x1,x2,p) p[1]+p[2]*x1+p[4]*exp(p[3]*x2)\n",
    "out2<-nls(y~fn2(x1,x2,p),start=list(p=c(1,0,-.5,-.3)),trace=TRUE)\n",
    "summary(out2)"
   ]
  },
  {
   "cell_type": "markdown",
   "metadata": {},
   "source": [
    "The standard error of the estimate is probably calculated by the inverse of the fisher information matrix. "
   ]
  },
  {
   "cell_type": "code",
   "execution_count": 103,
   "metadata": {},
   "outputs": [
    {
     "data": {
      "text/plain": [
       "'log Lik.' 94.19059 (df=5)"
      ]
     },
     "metadata": {},
     "output_type": "display_data"
    }
   ],
   "source": [
    "logLik(out2)"
   ]
  },
  {
   "cell_type": "markdown",
   "metadata": {},
   "source": [
    "# Boostrapping"
   ]
  },
  {
   "attachments": {},
   "cell_type": "markdown",
   "metadata": {},
   "source": [
    "Hypothetically, if we knew the form of the population distribution, we could consider using simulation to draw many random samples (each of size n) from the population and calculate a different $\\hat{\\theta}$ for each sample.  We could construct a histogram of all the $\\hat{\\theta}$'s and take their sample standard deviation to be an estimate of SE($\\hat{\\theta}$). But what if we do not know the form of the population distribution?"
   ]
  },
  {
   "attachments": {},
   "cell_type": "markdown",
   "metadata": {},
   "source": [
    "Draw a \"bootstrap\" sample as a random sample of the same size n from the original sample of n observations (with replacement), and calculate a     for the bootstrap sample. Repeat a large number of times, each time drawing another bootstrap sample (of size n) and calculating another    for that sample. Then construct a histogram of all the    's, take their sample standard deviation to be an estimate of SE($\\hat{\\theta}$), etc. "
   ]
  },
  {
   "cell_type": "markdown",
   "metadata": {},
   "source": [
    "### <a id='ci_parameter'>R commands for bootstrapping parameter SEs/CIs for the manufacturing learning curve</a>"
   ]
  },
  {
   "cell_type": "code",
   "execution_count": 43,
   "metadata": {
    "collapsed": true
   },
   "outputs": [],
   "source": [
    "library(boot)   #need to load the boot package\n",
    "\n",
    "# read data\n",
    "MLC<-read.table(\"Data_for_Lecture_Examples/MLC.csv\",sep=\",\",header=TRUE)\n",
    "\n",
    "# parameter estimates\n",
    "MLCfit<-function(Z,i,theta0) {\n",
    "   Zboot<-Z[i,]\n",
    "   x1<-Zboot[[1]];x2<-Zboot[[2]];y<-Zboot[[3]]\n",
    "   fn <- function(p) {yhat<-p[1]+p[2]*x1+p[4]*exp(p[3]*x2); sum((y-yhat)^2)} \n",
    "   out<-nlm(fn,p=theta0)\n",
    "   theta<-out$estimate}  \n",
    "\n",
    "# do bootstrapping to estimate the standard error for the parameters\n",
    "MLCboot<-boot(MLC, MLCfit, R=5000, theta0=c(1,-.05,-.14,-.55))\n",
    "\n",
    "# get the covariance matrix\n",
    "CovTheta<-cov(MLCboot$t)\n",
    "\n",
    "# get the standard error from the diagonal of the matrix\n",
    "SE<-sqrt(diag(CovTheta))"
   ]
  },
  {
   "cell_type": "code",
   "execution_count": 59,
   "metadata": {},
   "outputs": [
    {
     "data": {
      "text/plain": [
       "\n",
       "ORDINARY NONPARAMETRIC BOOTSTRAP\n",
       "\n",
       "\n",
       "Call:\n",
       "boot(data = MLC, statistic = MLCfit, R = 5000, theta0 = c(1, \n",
       "    -0.05, -0.14, -0.55))\n",
       "\n",
       "\n",
       "Bootstrap Statistics :\n",
       "       original        bias    std. error\n",
       "t1*  1.01559674  0.0001995506 0.002905378\n",
       "t2* -0.04726666 -0.0001427573 0.003930713\n",
       "t3* -0.13479841  0.0002868197 0.005744071\n",
       "t4* -0.55244515  0.0012287296 0.010942128"
      ]
     },
     "metadata": {},
     "output_type": "display_data"
    }
   ],
   "source": [
    "MLCboot"
   ]
  },
  {
   "cell_type": "markdown",
   "metadata": {},
   "source": [
    "* **original** the estimate from the nlm function.\n",
    "* **bias**: the difference between the mean of the bootstrapping sample to the original estimate.\n",
    "* **std. error**: the standard error calculated by bootstrapping."
   ]
  },
  {
   "cell_type": "code",
   "execution_count": 48,
   "metadata": {},
   "outputs": [
    {
     "data": {
      "text/html": [
       "<table>\n",
       "<tbody>\n",
       "\t<tr><td> 8.441221e-06</td><td>-8.082415e-06</td><td> 5.595709e-06</td><td> 1.889070e-06</td></tr>\n",
       "\t<tr><td>-8.082415e-06</td><td> 1.545050e-05</td><td>-2.960669e-07</td><td>-8.565682e-07</td></tr>\n",
       "\t<tr><td> 5.595709e-06</td><td>-2.960669e-07</td><td> 3.299435e-05</td><td> 4.399854e-05</td></tr>\n",
       "\t<tr><td> 1.889070e-06</td><td>-8.565682e-07</td><td> 4.399854e-05</td><td> 1.197302e-04</td></tr>\n",
       "</tbody>\n",
       "</table>\n"
      ],
      "text/latex": [
       "\\begin{tabular}{llll}\n",
       "\t  8.441221e-06 & -8.082415e-06 &  5.595709e-06 &  1.889070e-06\\\\\n",
       "\t -8.082415e-06 &  1.545050e-05 & -2.960669e-07 & -8.565682e-07\\\\\n",
       "\t  5.595709e-06 & -2.960669e-07 &  3.299435e-05 &  4.399854e-05\\\\\n",
       "\t  1.889070e-06 & -8.565682e-07 &  4.399854e-05 &  1.197302e-04\\\\\n",
       "\\end{tabular}\n"
      ],
      "text/markdown": [
       "\n",
       "|  8.441221e-06 | -8.082415e-06 |  5.595709e-06 |  1.889070e-06 | \n",
       "| -8.082415e-06 |  1.545050e-05 | -2.960669e-07 | -8.565682e-07 | \n",
       "|  5.595709e-06 | -2.960669e-07 |  3.299435e-05 |  4.399854e-05 | \n",
       "|  1.889070e-06 | -8.565682e-07 |  4.399854e-05 |  1.197302e-04 | \n",
       "\n",
       "\n"
      ],
      "text/plain": [
       "     [,1]          [,2]          [,3]          [,4]         \n",
       "[1,]  8.441221e-06 -8.082415e-06  5.595709e-06  1.889070e-06\n",
       "[2,] -8.082415e-06  1.545050e-05 -2.960669e-07 -8.565682e-07\n",
       "[3,]  5.595709e-06 -2.960669e-07  3.299435e-05  4.399854e-05\n",
       "[4,]  1.889070e-06 -8.565682e-07  4.399854e-05  1.197302e-04"
      ]
     },
     "metadata": {},
     "output_type": "display_data"
    }
   ],
   "source": [
    "CovTheta"
   ]
  },
  {
   "cell_type": "markdown",
   "metadata": {},
   "source": [
    "We can manually calculate the SE by taking the square root of the diagonal of the covariance matrix."
   ]
  },
  {
   "cell_type": "code",
   "execution_count": 50,
   "metadata": {},
   "outputs": [
    {
     "data": {
      "text/html": [
       "<ol class=list-inline>\n",
       "\t<li>0.00290537788642494</li>\n",
       "\t<li>0.00393071281315947</li>\n",
       "\t<li>0.00574407084896243</li>\n",
       "\t<li>0.0109421283235937</li>\n",
       "</ol>\n"
      ],
      "text/latex": [
       "\\begin{enumerate*}\n",
       "\\item 0.00290537788642494\n",
       "\\item 0.00393071281315947\n",
       "\\item 0.00574407084896243\n",
       "\\item 0.0109421283235937\n",
       "\\end{enumerate*}\n"
      ],
      "text/markdown": [
       "1. 0.00290537788642494\n",
       "2. 0.00393071281315947\n",
       "3. 0.00574407084896243\n",
       "4. 0.0109421283235937\n",
       "\n",
       "\n"
      ],
      "text/plain": [
       "[1] 0.002905378 0.003930713 0.005744071 0.010942128"
      ]
     },
     "metadata": {},
     "output_type": "display_data"
    }
   ],
   "source": [
    "SE"
   ]
  },
  {
   "cell_type": "code",
   "execution_count": 47,
   "metadata": {},
   "outputs": [
    {
     "data": {
      "text/plain": [
       "BOOTSTRAP CONFIDENCE INTERVAL CALCULATIONS\n",
       "Based on 5000 bootstrap replicates\n",
       "\n",
       "CALL : \n",
       "boot.ci(boot.out = MLCboot, conf = c(0.9, 0.95, 0.99), type = c(\"norm\", \n",
       "    \"basic\"), index = 1)\n",
       "\n",
       "Intervals : \n",
       "Level      Normal              Basic         \n",
       "90%   ( 1.011,  1.020 )   ( 1.011,  1.020 )   \n",
       "95%   ( 1.010,  1.021 )   ( 1.010,  1.022 )   \n",
       "99%   ( 1.008,  1.023 )   ( 1.009,  1.024 )  \n",
       "Calculations and Intervals on Original Scale"
      ]
     },
     "metadata": {},
     "output_type": "display_data"
    },
    {
     "data": {
      "image/png": "[encoded data removed]",
      "text/plain": [
       "Plot with title “Histogram of t”"
      ]
     },
     "metadata": {},
     "output_type": "display_data"
    }
   ],
   "source": [
    "plot(MLCboot,index=1)  #index=i calculates results for ith parameter\n",
    "boot.ci(MLCboot,conf=c(.9,.95,.99),index=1,type=c(\"norm\",\"basic\"))"
   ]
  },
  {
   "cell_type": "markdown",
   "metadata": {},
   "source": [
    "**Calculating the Crude CI (Normal CI)**"
   ]
  },
  {
   "cell_type": "markdown",
   "metadata": {},
   "source": [
    "**Normal CI**: $\\hat{\\theta} \\pm SE(\\hat{\\theta}) - bias$\n",
    "\n",
    "we want to minus the bias since we want to take the bias into account when we build the CI using the SE calculated from bootstrapping."
   ]
  },
  {
   "cell_type": "code",
   "execution_count": 57,
   "metadata": {},
   "outputs": [
    {
     "data": {
      "text/html": [
       "1.00970264852"
      ],
      "text/latex": [
       "1.00970264852"
      ],
      "text/markdown": [
       "1.00970264852"
      ],
      "text/plain": [
       "[1] 1.009703"
      ]
     },
     "metadata": {},
     "output_type": "display_data"
    }
   ],
   "source": [
    "1.01559674-1.96*0.002905378-0.0001995506"
   ]
  },
  {
   "cell_type": "code",
   "execution_count": 58,
   "metadata": {},
   "outputs": [
    {
     "data": {
      "text/html": [
       "1.02109173028"
      ],
      "text/latex": [
       "1.02109173028"
      ],
      "text/markdown": [
       "1.02109173028"
      ],
      "text/plain": [
       "[1] 1.021092"
      ]
     },
     "metadata": {},
     "output_type": "display_data"
    }
   ],
   "source": [
    "1.01559674+1.96*0.002905378-0.0001995506"
   ]
  },
  {
   "cell_type": "markdown",
   "metadata": {},
   "source": [
    "**When to Use Which Method for Calculating SEs?**"
   ]
  },
  {
   "cell_type": "markdown",
   "metadata": {},
   "source": [
    "* use the Fisher info matrix\n",
    "    * If n is large enough to invoke asymptotics, and you want an expression for the SEs (which provides useful insight into the quality of the data)\n",
    "* use bootstrapping\n",
    "    * If n is not large enough to invoke asymptotics (the more complex the model, the larger the required n)\n",
    "    * In certain cases in which the conditions other than n required for the asymptotic results are not met (somewhat rare)\n",
    "    * If there is no underlying probabilistic model for the data (and hence no likelihood or MLEs), in which case the Fisher info matrix is irrelevant\n",
    "    * If the model is nonparametric, in which case the Fisher info matrix is irrelevant\n",
    "    * For SEs for the predicted response CIs or PIs with complex nonlinear models\n",
    "   "
   ]
  },
  {
   "cell_type": "markdown",
   "metadata": {},
   "source": [
    "### <a id=\"ci_prediction\">R commands for bootstrapping response CIs for the manufacturing learning curve</a>"
   ]
  },
  {
   "cell_type": "code",
   "execution_count": 87,
   "metadata": {},
   "outputs": [
    {
     "data": {
      "text/plain": [
       "\n",
       "ORDINARY NONPARAMETRIC BOOTSTRAP\n",
       "\n",
       "\n",
       "Call:\n",
       "boot(data = MLC, statistic = MLCfit, R = 5000, theta0 = c(1, \n",
       "    -0.05, -0.14, -0.55), x_pred = c(1, 15))\n",
       "\n",
       "\n",
       "Bootstrap Statistics :\n",
       "     original       bias    std. error\n",
       "t1* 0.8951899 -0.000250642 0.005095601"
      ]
     },
     "metadata": {},
     "output_type": "display_data"
    },
    {
     "data": {
      "text/plain": [
       "BOOTSTRAP CONFIDENCE INTERVAL CALCULATIONS\n",
       "Based on 5000 bootstrap replicates\n",
       "\n",
       "CALL : \n",
       "boot.ci(boot.out = MLCboot_ci, conf = c(0.9, 0.95, 0.99), type = c(\"norm\", \n",
       "    \"basic\"))\n",
       "\n",
       "Intervals : \n",
       "Level      Normal              Basic         \n",
       "90%   ( 0.8871,  0.9038 )   ( 0.8870,  0.9036 )   \n",
       "95%   ( 0.8855,  0.9054 )   ( 0.8851,  0.9052 )   \n",
       "99%   ( 0.8823,  0.9086 )   ( 0.8820,  0.9090 )  \n",
       "Calculations and Intervals on Original Scale"
      ]
     },
     "metadata": {},
     "output_type": "display_data"
    },
    {
     "data": {
      "image/png": "[encoded data removed]",
      "text/plain": [
       "Plot with title “Histogram of t”"
      ]
     },
     "metadata": {},
     "output_type": "display_data"
    }
   ],
   "source": [
    "library(boot)   #need to load the boot package\n",
    "\n",
    "# parameter estimates\n",
    "MLCfit<-function(Z,i,theta0,x_pred) {\n",
    "   Zboot<-Z[i,]\n",
    "   x1<-Zboot[[1]];x2<-Zboot[[2]];y<-Zboot[[3]]\n",
    "   fn <- function(p) {yhat<-p[1]+p[2]*x1+p[4]*exp(p[3]*x2); sum((y-yhat)^2)} \n",
    "   out<-nlm(fn,p=theta0)\n",
    "   theta<-out$estimate \n",
    "   y_pred<- theta[1]+theta[2]*x_pred[1]+theta[4]*exp(theta[3]*x_pred[2])} #predicted response\n",
    "\n",
    "# do bootstrapping to estimate the confidence interval on the predicted response\n",
    "MLCboot_ci<-boot(MLC, MLCfit, R=5000, theta0=c(1,-.05,-.14,-.55), x_pred=c(1,15))\n",
    "MLCboot_ci\n",
    "\n",
    "# get the variance\n",
    "VarYhat<-var(MLCboot_ci$t)\n",
    "\n",
    "# get the standard error from the diagonal of the matrix\n",
    "SEYhat<-sqrt(VarYhat)\n",
    "\n",
    "# plot out\n",
    "plot(MLCboot_ci)  \n",
    "boot.ci(MLCboot_ci,conf=c(.9,.95,.99),type=c(\"norm\",\"basic\"))"
   ]
  },
  {
   "cell_type": "code",
   "execution_count": 88,
   "metadata": {},
   "outputs": [
    {
     "data": {
      "text/plain": [
       "\n",
       "ORDINARY NONPARAMETRIC BOOTSTRAP\n",
       "\n",
       "\n",
       "Call:\n",
       "boot(data = MLC, statistic = MLCfit, R = 5000, theta0 = c(1, \n",
       "    -0.05, -0.14, -0.55), x_pred = c(1, 15))\n",
       "\n",
       "\n",
       "Bootstrap Statistics :\n",
       "     original       bias    std. error\n",
       "t1* 0.8951899 -0.000250642 0.005095601"
      ]
     },
     "metadata": {},
     "output_type": "display_data"
    }
   ],
   "source": [
    "MLCboot_ci"
   ]
  },
  {
   "cell_type": "markdown",
   "metadata": {},
   "source": [
    "We can see that the 95% reflected confidence interval for the new observation x_pred=c(1,15) is (0.8851,  0.9050)."
   ]
  },
  {
   "cell_type": "markdown",
   "metadata": {},
   "source": [
    "## <a id=\"pi_prediction\">Bootstrapping Prediction Intervals (PIs) for the Response</a>"
   ]
  },
  {
   "cell_type": "markdown",
   "metadata": {},
   "source": [
    "In statistical inference, specifically predictive inference, a prediction interval is an estimate of an interval in which future observations will fall, with a certain probability, given what has already been observed."
   ]
  },
  {
   "cell_type": "markdown",
   "metadata": {},
   "source": [
    "Suppose that I'm fitting a simple linear regression model with no intercept.  The model is $y=βx+ϵ$ with all the standard assumptions on $ϵ$.  In particular, the expected value of $ϵ$ is zero.\n",
    "\n",
    "Given a new value of x which I'll call x0, there are two things I can estimate:\n",
    "\n",
    "* The average value of y when x=x0.\n",
    "* The value of y in a specific observation when x=x0.\n",
    "\n",
    "The confidence interval is measuring how much uncertainty there is in the first estimate, whereas the prediction interval is measuring how much uncertainty there is in the second estimate.  As I get more data, there's less uncertainty in both quantities.  The difference is that the confidence interval will eventually collapse to a single point in the limit, whereas the prediction interval will never become that narrow.  That's because there's more information about the average in a larger sample, but there isn't more information about any single observation."
   ]
  },
  {
   "cell_type": "markdown",
   "metadata": {},
   "source": [
    "PI on Y*: $g(x*, \\hat{\\theta}) \\pm z_{\\alpha/2}\\sqrt{SE[g(x*, \\hat{\\theta})]^2+ \\hat{\\alpha}^2}$"
   ]
  },
  {
   "cell_type": "markdown",
   "metadata": {},
   "source": [
    "Simple Method"
   ]
  },
  {
   "cell_type": "code",
   "execution_count": 98,
   "metadata": {},
   "outputs": [
    {
     "data": {
      "text/html": [
       "0.895189896414813"
      ],
      "text/latex": [
       "0.895189896414813"
      ],
      "text/markdown": [
       "0.895189896414813"
      ],
      "text/plain": [
       "[1] 0.8951899"
      ]
     },
     "metadata": {},
     "output_type": "display_data"
    },
    {
     "data": {
      "text/html": [
       "<ol class=list-inline>\n",
       "\t<li>0.870977653158749</li>\n",
       "\t<li>0.919402139670876</li>\n",
       "</ol>\n"
      ],
      "text/latex": [
       "\\begin{enumerate*}\n",
       "\\item 0.870977653158749\n",
       "\\item 0.919402139670876\n",
       "\\end{enumerate*}\n"
      ],
      "text/markdown": [
       "1. 0.870977653158749\n",
       "2. 0.919402139670876\n",
       "\n",
       "\n"
      ],
      "text/plain": [
       "[1] 0.8709777 0.9194021"
      ]
     },
     "metadata": {},
     "output_type": "display_data"
    }
   ],
   "source": [
    "# Get the predicted response\n",
    "Yhat0 = MLCboot_ci$t0\n",
    "Yhat0\n",
    "\n",
    "# get the bootstrapping predicted response.\n",
    "Yhatboot = MLCboot_ci$t\n",
    "\n",
    "# get the MSE\n",
    "# MSE = nlm_result$minimum/(length(y)-length(nlm_theta)) \n",
    "\n",
    "# get the wider standard error\n",
    "SEY = sqrt(var(Yhatboot)+MSE)\n",
    "\n",
    "# calculate the prediction interval\n",
    "pi = c(Yhat0-qnorm(0.975)*SEY, Yhat0+qnorm(0.975)*SEY)\n",
    "pi"
   ]
  },
  {
   "cell_type": "markdown",
   "metadata": {},
   "source": [
    " "
   ]
  },
  {
   "cell_type": "markdown",
   "metadata": {},
   "source": [
    "Complex Method to calculate the PI\n",
    "```\n",
    "> Yhat0<-MLCboot$t0\n",
    "> Yhatboot<-MLCboot$t\n",
    "> e<-rnorm(nrow(Yhatboot), mean=0, sd=sqrt(MSE)) \n",
    "> Yboot<-Yhatboot+e\n",
    "> SEY<-sqrt(var(Yboot))\n",
    "> Yquant<-quantile(Yboot,prob=c(.025,.975))\n",
    "> L<-2*Yhat0-Yquant[2]\n",
    "> U<-2*Yhat0-Yquant[1]\n",
    "```"
   ]
  },
  {
   "cell_type": "markdown",
   "metadata": {},
   "source": [
    "Reference\n",
    "* [Quora: What is the difference between prediction and confidence intervals?](https://www.quora.com/What-is-the-difference-between-prediction-and-confidence-intervals)\n"
   ]
  }
 ],
 "metadata": {
  "kernelspec": {
   "display_name": "R",
   "language": "R",
   "name": "ir"
  },
  "language_info": {
   "codemirror_mode": "r",
   "file_extension": ".r",
   "mimetype": "text/x-r-source",
   "name": "R",
   "pygments_lexer": "r",
   "version": "3.4.0"
  }
 },
 "nbformat": 4,
 "nbformat_minor": 2
}
